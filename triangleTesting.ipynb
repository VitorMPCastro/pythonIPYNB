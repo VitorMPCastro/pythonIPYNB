{
  "nbformat": 4,
  "nbformat_minor": 0,
  "metadata": {
    "colab": {
      "provenance": [],
      "authorship_tag": "ABX9TyPP199h5lTvDYBlOWz3Pm1I",
      "include_colab_link": true
    },
    "kernelspec": {
      "name": "python3",
      "display_name": "Python 3"
    },
    "language_info": {
      "name": "python"
    }
  },
  "cells": [
    {
      "cell_type": "markdown",
      "metadata": {
        "id": "view-in-github",
        "colab_type": "text"
      },
      "source": [
        "<a href=\"https://colab.research.google.com/github/VitorMPCastro/pythonIPYNB/blob/main/triangleTesting.ipynb\" target=\"_parent\"><img src=\"https://colab.research.google.com/assets/colab-badge.svg\" alt=\"Open In Colab\"/></a>"
      ]
    },
    {
      "cell_type": "code",
      "source": [
        "def main():\n",
        "    try:\n",
        "        A = (0, 0)\n",
        "        B = (1.00001, 0)\n",
        "        C = (0.5, math.sqrt(0.75))\n",
        "\n",
        "        triangle = Triangle(A, B, C)\n",
        "\n",
        "        print(f\"Side lengths: AB = {triangle.side_AB:.2f}, BC = {triangle.side_BC:.2f}, CA = {triangle.side_CA:.2f}\")\n",
        "        print(f\"Perimeter: {triangle.perimeter():.2f}\")\n",
        "        print(f\"Area: {triangle.area():.2f}\")\n",
        "        angles = triangle.angles()\n",
        "        print(f\"Angles: A = {angles[0]:.2f}°, B = {angles[1]:.2f}°, C = {angles[2]:.2f}°\")\n",
        "        print(f\"Classification: {triangle.classify()}\")\n",
        "\n",
        "        triangle.draw_triangle()\n",
        "\n",
        "    except InvalidTriangleError as e:\n",
        "        print(f\"Error: {e}\")\n",
        "    except Exception as e:\n",
        "        print(f\"An unexpected error occurred: {e}\")\n",
        "\n",
        "main()\n"
      ],
      "metadata": {
        "colab": {
          "base_uri": "https://localhost:8080/",
          "height": 517
        },
        "id": "H7q8NCtqzIuR",
        "outputId": "f7f53087-fa90-4c1a-acc4-af338bd18d1c"
      },
      "execution_count": 50,
      "outputs": [
        {
          "output_type": "stream",
          "name": "stdout",
          "text": [
            "Side lengths: AB = 1.00, BC = 1.00, CA = 1.00\n",
            "Perimeter: 3.00\n",
            "Area: 0.43\n",
            "Angles: A = 60.00°, B = 60.00°, C = 60.00°\n",
            "Classification: Scalene\n"
          ]
        },
        {
          "output_type": "display_data",
          "data": {
            "text/plain": [
              "<Figure size 640x480 with 1 Axes>"
            ],
            "image/png": "[encoded data removed]"
          },
          "metadata": {}
        }
      ]
    },
    {
      "cell_type": "code",
      "execution_count": 42,
      "metadata": {
        "id": "353GfiFUx8QA"
      },
      "outputs": [],
      "source": [
        "import math\n",
        "import matplotlib.pyplot as plt\n",
        "\n",
        "class InvalidTriangleError(Exception):\n",
        "    \"\"\"Custom exception for invalid triangles.\"\"\"\n",
        "    pass\n",
        "\n",
        "class Triangle:\n",
        "    def __init__(self, A, B, C):\n",
        "        self.A = A\n",
        "        self.B = B\n",
        "        self.C = C\n",
        "\n",
        "        self.side_AB = self.distance(self.A, self.B)\n",
        "        self.side_BC = self.distance(self.B, self.C)\n",
        "        self.side_CA = self.distance(self.C, self.A)\n",
        "\n",
        "        if not self.is_valid_triangle():\n",
        "          raise InvalidTriangleError(\"The given points do not form a valid triangle.\")\n",
        "\n",
        "    def distance(self, P, Q):\n",
        "        return math.sqrt((Q[0] - P[0]) **2 + (Q[1] - P[1]) **2)\n",
        "\n",
        "    def is_valid_triangle(self):\n",
        "        \"\"\"Check the triangle inequality theorem.\"\"\"\n",
        "        return (self.side_AB + self.side_BC > self.side_CA and\n",
        "                self.side_AB + self.side_CA > self.side_BC and\n",
        "                self.side_BC + self.side_CA > self.side_AB)\n",
        "\n",
        "    def perimeter(self):\n",
        "        return self.side_AB + self.side_BC + self.side_CA\n",
        "\n",
        "    def area(self):\n",
        "        s = self.perimeter() / 2\n",
        "        return math.sqrt(s * (s - self.side_AB) * (s - self.side_BC) * (s - self.side_CA))\n",
        "\n",
        "    def classify(self):\n",
        "        sides = [self.side_AB, self.side_BC, self.side_CA]\n",
        "        tolerance = 1e-12\n",
        "\n",
        "        if abs(self.side_AB - self.side_BC) < tolerance and \\\n",
        "          abs(self.side_BC - self.side_CA) < tolerance:\n",
        "            return \"Equilateral\"\n",
        "        elif abs(self.side_AB - self.side_BC) < tolerance or \\\n",
        "            abs(self.side_BC - self.side_CA) < tolerance or \\\n",
        "            abs(self.side_CA - self.side_AB) < tolerance:\n",
        "            return \"Isosceles\"\n",
        "        else:\n",
        "            return \"Scalene\"\n",
        "\n",
        "\n",
        "    def angle(self, side1, side2, opposite_side):\n",
        "        cos_theta = (side1**2 + side2**2 - opposite_side**2) / (2 * side1 * side2)\n",
        "        return math.degrees(math.acos(cos_theta))\n",
        "\n",
        "    def angles(self):\n",
        "        angle_A = self.angle(self.side_AB, self.side_CA, self.side_BC)\n",
        "        angle_B = self.angle(self.side_AB, self.side_BC, self.side_CA)\n",
        "        angle_C = self.angle(self.side_BC, self.side_CA, self.side_AB)\n",
        "        return angle_A, angle_B, angle_C\n",
        "\n",
        "    def draw_triangle(self):\n",
        "        plt.figure()\n",
        "\n",
        "        plt.plot([self.A[0], self.B[0]], [self.A[1], self.B[1]], 'r-')\n",
        "        plt.plot([self.B[0], self.C[0]], [self.B[1], self.C[1]], 'g-')\n",
        "        plt.plot([self.C[0], self.A[0]], [self.C[1], self.A[1]], 'b-')\n",
        "\n",
        "        plt.text(self.A[0], self.A[1], 'A', fontsize=12, ha='right')\n",
        "        plt.text(self.B[0], self.B[1], 'B', fontsize=12, ha='right')\n",
        "        plt.text(self.C[0], self.C[1], 'C', fontsize=12, ha='right')\n",
        "\n",
        "        plt.text((self.A[0] + self.B[0]) / 2, (self.A[1] + self.B[1]) / 2,\n",
        "                 f'{self.side_AB:.2f}', color='red')\n",
        "        plt.text((self.B[0] + self.C[0]) / 2, (self.B[1] + self.C[1]) / 2,\n",
        "                 f'{self.side_BC:.2f}', color='green')\n",
        "        plt.text((self.C[0] + self.A[0]) / 2, (self.C[1] + self.A[1]) / 2,\n",
        "                 f'{self.side_CA:.2f}', color='blue')\n",
        "\n",
        "        plt.gca().set_aspect('equal', adjustable='box')\n",
        "        plt.show()\n"
      ]
    },
    {
      "cell_type": "code",
      "source": [
        "import unittest\n",
        "import math\n",
        "\n",
        "class TestTriangle(unittest.TestCase):\n",
        "\n",
        "    def test_valid_triangle(self):\n",
        "        \"\"\"Test if a valid triangle is created.\"\"\"\n",
        "        A = (0, 0)\n",
        "        B = (4, 0)\n",
        "        C = (0, 3)\n",
        "        triangle = Triangle(A, B, C)\n",
        "        self.assertEqual(triangle.side_AB, 4.0)\n",
        "        self.assertEqual(triangle.side_BC, 5.0)\n",
        "        self.assertEqual(triangle.side_CA, 3.0)\n",
        "\n",
        "    def test_invalid_triangle(self):\n",
        "        \"\"\"Test if an invalid triangle raises an exception.\"\"\"\n",
        "        A = (0, 0)\n",
        "        B = (4, 0)\n",
        "        C = (8, 0)  # Collinear points\n",
        "        with self.assertRaises(InvalidTriangleError):\n",
        "            Triangle(A, B, C)\n",
        "\n",
        "    def test_perimeter(self):\n",
        "        \"\"\"Test the perimeter calculation.\"\"\"\n",
        "        A = (0, 0)\n",
        "        B = (4, 0)\n",
        "        C = (0, 3)\n",
        "        triangle = Triangle(A, B, C)\n",
        "        self.assertAlmostEqual(triangle.perimeter(), 12.0)\n",
        "\n",
        "    def test_area(self):\n",
        "        \"\"\"Test the area calculation.\"\"\"\n",
        "        A = (0, 0)\n",
        "        B = (4, 0)\n",
        "        C = (0, 3)\n",
        "        triangle = Triangle(A, B, C)\n",
        "        self.assertAlmostEqual(triangle.area(), 6.0)\n",
        "\n",
        "    def test_classification_equilateral(self):\n",
        "        \"\"\"Test classification of an equilateral triangle.\"\"\"\n",
        "        A = (0, 0)\n",
        "        B = (2, 0)\n",
        "        C = (1, math.sqrt(3))\n",
        "        triangle = Triangle(A, B, C)\n",
        "        self.assertEqual(triangle.classify(), \"Equilateral\")\n",
        "\n",
        "    def test_classification_isosceles(self):\n",
        "        \"\"\"Test classification of an isosceles triangle.\"\"\"\n",
        "        A = (0, 0)\n",
        "        B = (4, 0)\n",
        "        C = (2, 3)\n",
        "        triangle = Triangle(A, B, C)\n",
        "        self.assertEqual(triangle.classify(), \"Isosceles\")\n",
        "\n",
        "    def test_classification_scalene(self):\n",
        "        \"\"\"Test classification of a scalene triangle.\"\"\"\n",
        "        A = (0, 0)\n",
        "        B = (4, 0)\n",
        "        C = (0, 3)\n",
        "        triangle = Triangle(A, B, C)\n",
        "        self.assertEqual(triangle.classify(), \"Scalene\")\n",
        "\n",
        "    def test_angle_calculation(self):\n",
        "        \"\"\"Test if angle calculations are correct.\"\"\"\n",
        "        A = (0, 0)\n",
        "        B = (4, 0)\n",
        "        C = (0, 3)\n",
        "        triangle = Triangle(A, B, C)\n",
        "        angles = triangle.angles()\n",
        "        self.assertAlmostEqual(angles[0], 90.0, delta=1.0)  # Angle at A\n",
        "        self.assertAlmostEqual(angles[1], 36.87, delta=0.1)  # Angle at B\n",
        "        self.assertAlmostEqual(angles[2], 53.13, delta=0.1)  # Angle at C\n",
        "\n",
        "    def test_degenerate_triangle(self):\n",
        "        \"\"\"Test if a degenerate triangle (collinear points) raises an exception.\"\"\"\n",
        "        A = (0, 0)\n",
        "        B = (4, 0)\n",
        "        C = (8, 0)  # Collinear points\n",
        "        with self.assertRaises(InvalidTriangleError):\n",
        "            Triangle(A, B, C)\n",
        "\n",
        "    def test_almost_equilateral(self):\n",
        "        \"\"\"Test an almost equilateral triangle with a small precision error.\"\"\"\n",
        "        A = (0, 0)\n",
        "        B = (1.00001, 0)\n",
        "        C = (0.5, math.sqrt(0.75))  # Close to equilateral\n",
        "        triangle = Triangle(A, B, C)\n",
        "        self.assertEqual(triangle.classify(), \"Scalene\")\n",
        "\n",
        "\n",
        "# Run the tests\n",
        "unittest.main(argv=[''], exit=False)\n"
      ],
      "metadata": {
        "colab": {
          "base_uri": "https://localhost:8080/"
        },
        "id": "ezaywIGJ1tSQ",
        "outputId": "e49b80de-b833-4d57-baee-d013360a412e"
      },
      "execution_count": 51,
      "outputs": [
        {
          "output_type": "stream",
          "name": "stderr",
          "text": [
            "..........\n",
            "----------------------------------------------------------------------\n",
            "Ran 10 tests in 0.016s\n",
            "\n",
            "OK\n"
          ]
        },
        {
          "output_type": "execute_result",
          "data": {
            "text/plain": [
              "<unittest.main.TestProgram at 0x7997219c4fd0>"
            ]
          },
          "metadata": {},
          "execution_count": 51
        }
      ]
    }
  ]
}